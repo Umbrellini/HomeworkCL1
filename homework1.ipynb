{
 "cells": [
  {
   "cell_type": "code",
   "execution_count": 1,
   "metadata": {},
   "outputs": [
    {
     "name": "stdout",
     "output_type": "stream",
     "text": [
      "16\n"
     ]
    }
   ],
   "source": [
    "tar = 4\n",
    "tar1 = tar*4\n",
    "print(tar1)"
   ]
  },
  {
   "cell_type": "code",
   "execution_count": 2,
   "metadata": {},
   "outputs": [
    {
     "data": {
      "text/plain": [
       "str"
      ]
     },
     "execution_count": 2,
     "metadata": {},
     "output_type": "execute_result"
    }
   ],
   "source": [
    "ver = \"bonjour\"\n",
    "type(ver)"
   ]
  },
  {
   "cell_type": "code",
   "execution_count": 3,
   "metadata": {},
   "outputs": [
    {
     "data": {
      "text/plain": [
       "'bonjourbonjourbonjourbonjour'"
      ]
     },
     "execution_count": 3,
     "metadata": {},
     "output_type": "execute_result"
    }
   ],
   "source": [
    "ver*tar"
   ]
  },
  {
   "cell_type": "code",
   "execution_count": 4,
   "metadata": {},
   "outputs": [
    {
     "name": "stdout",
     "output_type": "stream",
     "text": [
      "Adeline est ma fille ainée\n"
     ]
    }
   ],
   "source": [
    "line1 = \"Adeline est\" \n",
    "line2 = \" ma fille ainée\"\n",
    "concat = line1 + line2\n",
    "print(concat)"
   ]
  },
  {
   "cell_type": "code",
   "execution_count": 5,
   "metadata": {},
   "outputs": [
    {
     "name": "stdout",
     "output_type": "stream",
     "text": [
      "а\n",
      "г\n",
      "т\n",
      "мтирогла\n",
      "ритм\n"
     ]
    }
   ],
   "source": [
    "mot = \"алгоритм\"\n",
    "print(mot[0])\n",
    "print(mot[2])\n",
    "print(mot[6])\n",
    "print(mot[::-1])\n",
    "mot = mot[4]+mot[-3:]\n",
    "print(mot)"
   ]
  },
  {
   "cell_type": "code",
   "execution_count": 6,
   "metadata": {},
   "outputs": [
    {
     "name": "stdout",
     "output_type": "stream",
     "text": [
      "57.02\n",
      "1.4791304347826089\n",
      "-11.020000000000003\n",
      "python is coolpython is coolpython is coolpython is coolpython is coolpython is coolpython is coolpython is coolpython is coolpython is coolpython is coolpython is coolpython is coolpython is coolpython is coolpython is coolpython is coolpython is coolpython is coolpython is coolpython is coolpython is coolpython is cool\n",
      "python is coolyou are cool, too\n"
     ]
    }
   ],
   "source": [
    "a = 23\n",
    "b = 34.02\n",
    "c = \"python is cool\"\n",
    "d = \"you are cool, too\"\n",
    "print(a+b)\n",
    "print(b/a)\n",
    "print(a-b)\n",
    "print(c*a)\n",
    "concat = c + d\n",
    "print(concat)"
   ]
  },
  {
   "cell_type": "code",
   "execution_count": 21,
   "metadata": {},
   "outputs": [
    {
     "name": "stdout",
     "output_type": "stream",
     "text": [
      "спаниель\n"
     ]
    }
   ],
   "source": [
    "text1 = \"спаниель\"\n",
    "\n",
    "text2 = \"апельсин\"\n",
    "text3 = text2[5]+text2[1]+text2[0]+text2[-1]+text2[-2]+text2[2:5]\n",
    "print(text3)"
   ]
  },
  {
   "cell_type": "code",
   "execution_count": null,
   "metadata": {},
   "outputs": [],
   "source": []
  }
 ],
 "metadata": {
  "kernelspec": {
   "display_name": "Python 3",
   "language": "python",
   "name": "python3"
  },
  "language_info": {
   "codemirror_mode": {
    "name": "ipython",
    "version": 3
   },
   "file_extension": ".py",
   "mimetype": "text/x-python",
   "name": "python",
   "nbconvert_exporter": "python",
   "pygments_lexer": "ipython3",
   "version": "3.9.0"
  }
 },
 "nbformat": 4,
 "nbformat_minor": 4
}
